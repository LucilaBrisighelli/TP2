{
 "cells": [
  {
   "cell_type": "code",
   "execution_count": 94,
   "id": "668d5ee3",
   "metadata": {},
   "outputs": [
    {
     "name": "stdout",
     "output_type": "stream",
     "text": [
      "                                               name    host_name  \\\n",
      "0                Clean & quiet apt home by the park         John   \n",
      "1                             Skylit Midtown Castle     Jennifer   \n",
      "2               THE VILLAGE OF HARLEM....NEW YORK !    Elisabeth   \n",
      "3                   Cozy Entire Floor of Brownstone  LisaRoxanne   \n",
      "4  Entire Apt: Spacious Studio/Loft by central park        Laura   \n",
      "\n",
      "  neighbourhood  latitude  longitude  price  minimum_nights  \\\n",
      "0    Kensington  40.64749  -73.97237  149.0             1.0   \n",
      "1       Midtown  40.75362  -73.98377  225.0             1.0   \n",
      "2        Harlem  40.80902  -73.94190  150.0             3.0   \n",
      "3  Clinton Hill  40.68514  -73.95976   89.0             1.0   \n",
      "4   East Harlem  40.79851  -73.94399   80.0            10.0   \n",
      "\n",
      "   number_of_reviews last_review  neighbourhood_group_Bronx  \\\n",
      "0                9.0  2018-10-19                          0   \n",
      "1               45.0  2019-05-21                          0   \n",
      "2                0.0         NaN                          0   \n",
      "3                NaN  2019-07-05                          0   \n",
      "4                9.0  2018-11-19                          0   \n",
      "\n",
      "   neighbourhood_group_Brooklyn  neighbourhood_group_Manhattan  \\\n",
      "0                             1                              0   \n",
      "1                             0                              1   \n",
      "2                             0                              1   \n",
      "3                             1                              0   \n",
      "4                             0                              1   \n",
      "\n",
      "   neighbourhood_group_Queens  neighbourhood_group_Staten Island  \\\n",
      "0                           0                                  0   \n",
      "1                           0                                  0   \n",
      "2                           0                                  0   \n",
      "3                           0                                  0   \n",
      "4                           0                                  0   \n",
      "\n",
      "   room_type_Entire home/apt  room_type_Private room  room_type_Shared room  \\\n",
      "0                          0                       1                      0   \n",
      "1                          1                       0                      0   \n",
      "2                          0                       1                      0   \n",
      "3                          1                       0                      0   \n",
      "4                          1                       0                      0   \n",
      "\n",
      "   offer_group  \n",
      "0            1  \n",
      "1            1  \n",
      "2            1  \n",
      "3            1  \n",
      "4            1  \n"
     ]
    }
   ],
   "source": [
    "import pandas as pd\n",
    "import numpy as np\n",
    "\n",
    "# Leer la base de datos\n",
    "airbnb_data = pd.read_csv(\"BaseAirbnbNY.csv\")\n",
    "\n",
    "# Eliminar valores duplicados\n",
    "airbnb_data.drop_duplicates(inplace=True)\n",
    "\n",
    "# Eliminar columnas sin información relevante\n",
    "columns_to_drop = ['id', 'host_id','reviews_per_month','calculated_host_listings_count','availability_365']\n",
    "airbnb_data.drop(columns=columns_to_drop, inplace=True)\n",
    "\n",
    "# Imputación de valores faltantes con la media\n",
    "airbnb_data.fillna(airbnb_data.mean(numeric_only=True), inplace=True)\n",
    "\n",
    "# Identificar y tratar outliers\n",
    "# Calcular cuartiles\n",
    "Q1 = airbnb_data.quantile(0.25, numeric_only=True)\n",
    "Q3 = airbnb_data.quantile(0.75, numeric_only=True)\n",
    "IQR = Q3 - Q1\n",
    "\n",
    "outlier_threshold = 1.5\n",
    "outlier_mask = (airbnb_data.select_dtypes(include=np.number) < (Q1 - outlier_threshold * IQR)) | (airbnb_data.select_dtypes(include=np.number) > (Q3 + outlier_threshold * IQR))\n",
    "\n",
    "airbnb_data[outlier_mask] = np.nan\n",
    "\n",
    "# Transformar variables categóricas a numéricas utilizando one-hot encoding\n",
    "airbnb_data = pd.get_dummies(airbnb_data, columns=['neighbourhood_group', 'room_type'])\n",
    "\n",
    "# Calcular la cantidad de oferentes por \"Neighbourhood group\"\n",
    "offer_group = airbnb_data[['neighbourhood_group_Bronx', 'neighbourhood_group_Brooklyn', 'neighbourhood_group_Manhattan', 'neighbourhood_group_Queens', 'neighbourhood_group_Staten Island']].sum(axis=1)\n",
    "\n",
    "# Agregar la columna 'offer_group' al DataFrame\n",
    "airbnb_data['offer_group'] = offer_group\n",
    "\n",
    "print(airbnb_data.head())\n"
   ]
  },
  {
   "cell_type": "code",
   "execution_count": null,
   "id": "29adeeb9",
   "metadata": {},
   "outputs": [
    {
     "name": "stdout",
     "output_type": "stream",
     "text": [
      "aaa\n"
     ]
    }
   ],
   "source": [
    "print(\"aaa\")\n",
    "print (\"aa\")"
   ]
  }
 ],
 "metadata": {
  "kernelspec": {
   "display_name": "Python 3 (ipykernel)",
   "language": "python",
   "name": "python3"
  },
  "language_info": {
   "codemirror_mode": {
    "name": "ipython",
    "version": 3
   },
   "file_extension": ".py",
   "mimetype": "text/x-python",
   "name": "python",
   "nbconvert_exporter": "python",
   "pygments_lexer": "ipython3",
   "version": "3.11.4"
  }
 },
 "nbformat": 4,
 "nbformat_minor": 5
}
